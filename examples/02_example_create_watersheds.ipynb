{
 "cells": [
  {
   "cell_type": "code",
   "execution_count": null,
   "metadata": {},
   "outputs": [],
   "source": [
    "# generate watersheds from the points (this takes a few moments)\n",
    "\n",
    "sql = \"\"\"\n",
    "CREATE TABLE hydrostn_wsd AS\n",
    "SELECT\n",
    "  stn.id,\n",
    "  wsd1.wscode_ltree,\n",
    "  wsd1.localcode_ltree,\n",
    "  ST_union(wsd2.geom) as geom\n",
    "FROM public.hydrostn stn\n",
    "INNER JOIN whse_basemapping.fwa_watersheds_poly_sp wsd1\n",
    "ON ST_Intersects(stn.geom, wsd1.geom)\n",
    "INNER JOIN whse_basemapping.fwa_watersheds_poly_sp wsd2\n",
    "ON\n",
    "  -- b is a child of a, always\n",
    "  wsd2.wscode_ltree <@ wsd1.wscode_ltree\n",
    "AND\n",
    "    -- conditional upstream join logic, based on whether watershed codes are equivalent\n",
    "  CASE\n",
    "    -- first, consider simple case - streams where wscode and localcode are equivalent\n",
    "     WHEN\n",
    "        wsd1.wscode_ltree = wsd1.localcode_ltree\n",
    "     THEN TRUE\n",
    "     -- next, the more complicated case - where wscode and localcode are not equal\n",
    "     WHEN\n",
    "        wsd1.wscode_ltree != wsd1.localcode_ltree AND\n",
    "        (\n",
    "         -- tributaries: b wscode > a localcode and b wscode is not a child of a localcode\n",
    "            (wsd2.wscode_ltree > wsd1.localcode_ltree AND\n",
    "             NOT wsd2.wscode_ltree <@ wsd1.localcode_ltree)\n",
    "            OR\n",
    "         -- capture side channels: b is the same watershed code, with larger localcode\n",
    "            (wsd2.wscode_ltree = wsd1.wscode_ltree\n",
    "             AND wsd2.localcode_ltree >= wsd1.localcode_ltree)\n",
    "        )\n",
    "      THEN TRUE\n",
    "  END\n",
    "WHERE wsd1.watershed_group_code = 'SALM'\n",
    "GROUP BY\n",
    "  stn.id,\n",
    "  wsd1.wscode_ltree,\n",
    "  wsd1.localcode_ltree\"\"\"\n",
    "db.execute(sql)"
   ]
  },
  {
   "cell_type": "code",
   "execution_count": null,
   "metadata": {},
   "outputs": [],
   "source": [
    "# display the watersheds and stations on the map\n",
    "wsdgdf = gpd.read_postgis('SELECT id, ST_Transform(geom, 4326) as geom FROM hydrostn_wsd', db.engine)\n",
    "f, ax = plt.subplots(1)\n",
    "wsdgdf.plot(axes=ax)\n",
    "#stngdf.plot(axes=ax)\n",
    "mplleaflet.display(tiles='esri_worldtopo') "
   ]
  }
 ],
 "metadata": {
  "kernelspec": {
   "display_name": "Python 2",
   "language": "python",
   "name": "python2"
  },
  "language_info": {
   "codemirror_mode": {
    "name": "ipython",
    "version": 2
   },
   "file_extension": ".py",
   "mimetype": "text/x-python",
   "name": "python",
   "nbconvert_exporter": "python",
   "pygments_lexer": "ipython2",
   "version": "2.7.14"
  }
 },
 "nbformat": 4,
 "nbformat_minor": 2
}
